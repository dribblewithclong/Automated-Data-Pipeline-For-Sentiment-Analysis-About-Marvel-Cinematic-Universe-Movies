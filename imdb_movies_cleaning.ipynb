{
 "cells": [
  {
   "cell_type": "code",
   "execution_count": 1,
   "metadata": {},
   "outputs": [
    {
     "name": "stderr",
     "output_type": "stream",
     "text": [
      "[nltk_data] Downloading package stopwords to /home/mine44/nltk_data...\n",
      "[nltk_data]   Package stopwords is already up-to-date!\n",
      "[nltk_data] Downloading package wordnet to /home/mine44/nltk_data...\n",
      "[nltk_data]   Package wordnet is already up-to-date!\n",
      "[nltk_data] Downloading package omw-1.4 to /home/mine44/nltk_data...\n",
      "[nltk_data]   Package omw-1.4 is already up-to-date!\n"
     ]
    }
   ],
   "source": [
    "from pyspark.sql import SparkSession\n",
    "from pyspark.sql.functions import *\n",
    "from pyspark.sql.types import *\n",
    "import sqlite3\n",
    "import pandas as pd\n",
    "import numpy as np\n",
    "import warnings\n",
    "import re\n",
    "import nltk\n",
    "nltk.download('stopwords')\n",
    "nltk.download('wordnet')\n",
    "nltk.download('omw-1.4')\n",
    "from nltk.corpus import stopwords\n",
    "from nltk.tokenize import RegexpTokenizer\n",
    "warnings.filterwarnings(\"ignore\")\n",
    "from textblob import Word"
   ]
  },
  {
   "cell_type": "code",
   "execution_count": 2,
   "metadata": {},
   "outputs": [
    {
     "name": "stderr",
     "output_type": "stream",
     "text": [
      "Setting default log level to \"WARN\".\n",
      "To adjust logging level use sc.setLogLevel(newLevel). For SparkR, use setLogLevel(newLevel).\n"
     ]
    },
    {
     "name": "stdout",
     "output_type": "stream",
     "text": [
      "22/11/22 18:50:12 WARN NativeCodeLoader: Unable to load native-hadoop library for your platform... using builtin-java classes where applicable\n"
     ]
    }
   ],
   "source": [
    "spark = SparkSession.builder.getOrCreate()"
   ]
  },
  {
   "cell_type": "code",
   "execution_count": 3,
   "metadata": {},
   "outputs": [],
   "source": [
    "#Load imdb_movies and imdb_marvel data from database\n",
    "conn = sqlite3.connect(\"imdb_movies.sqlite\")\n",
    "imdb_movies = spark.createDataFrame(pd.read_sql_query(\"SELECT * from imdb_movies\", conn))\n",
    "imdb_marvel = spark.createDataFrame(pd.read_sql_query(\"SELECT * from imdb_marvel\", conn))"
   ]
  },
  {
   "cell_type": "code",
   "execution_count": 4,
   "metadata": {},
   "outputs": [
    {
     "name": "stderr",
     "output_type": "stream",
     "text": [
      "[Stage 0:>                                                          (0 + 1) / 1]\r"
     ]
    },
    {
     "name": "stdout",
     "output_type": "stream",
     "text": [
      "+---------+---------+--------------------+---------+--------------+--------------------+--------------------+------------+--------------------+-------------+--------+\n",
      "|   tconst|titleType|        primaryTitle|startYear|runtimeMinutes|              genres|            overview|release_date|             tagline|averageRating|numVotes|\n",
      "+---------+---------+--------------------+---------+--------------+--------------------+--------------------+------------+--------------------+-------------+--------+\n",
      "|tt0015400|    movie| The Thief of Bagdad|     1924|           155|Adventure,Family,...|A recalcitrant th...|     3/18/24|\"\"\"Happiness Must...|          7.7|    6324|\n",
      "|tt0019563|    movie|    West of Zanzibar|     1928|            65|       Drama,Mystery|Silent film (with...|    11/24/28|                null|          7.2|    1817|\n",
      "|tt0022958|    movie|         Grand Hotel|     1932|           112|       Drama,Romance|Guests at a posh ...|     5/25/32|Thank The Stars F...|          7.3|   19576|\n",
      "|tt0024216|    movie|           King Kong|     1933|           100|Adventure,Horror,...|An adventure film...|      4/7/33|A Monster of Crea...|          7.9|   86102|\n",
      "|tt0027977|    movie|        Modern Times|     1936|            87|Comedy,Drama,Romance|The Tramp struggl...|      2/5/36|He stands alone a...|          8.5|  242411|\n",
      "|tt0029453|    movie|        Pépé le Moko|     1937|            94| Crime,Drama,Romance|Pepe Le Moko is a...|     1/28/37|                null|          7.7|    7582|\n",
      "|tt0031381|    movie|  Gone with the Wind|     1939|           238|   Drama,Romance,War|An American class...|    12/15/39|The greatest roma...|          8.2|  315731|\n",
      "|tt0031679|    movie|Mr. Smith Goes to...|     1939|           129|        Comedy,Drama|Naive and idealis...|    10/19/39|Romance, drama, l...|          8.1|  116108|\n",
      "|tt0032553|    movie|  The Great Dictator|     1940|           125|    Comedy,Drama,War|Dictator Adenoid ...|    10/15/40|Once again - the ...|          8.4|  224110|\n",
      "|tt0033563|    movie|               Dumbo|     1941|            64|Adventure,Animati...|Dumbo is a baby e...|    10/22/41|The One...The Onl...|          7.2|  132831|\n",
      "|tt0034583|    movie|          Casablanca|     1942|           102|   Drama,Romance,War|In Casablanca, Mo...|    11/26/42|They had a date w...|          8.5|  570237|\n",
      "|tt0037536|    movie|The Bells of St. ...|     1945|           126|               Drama|Father O'Malley t...|    12/27/45|The Whole World's...|          7.2|    8350|\n",
      "|tt0038057|    movie|      Scarlet Street|     1945|           102|Drama,Film-Noir,T...|A man in mid-life...|    12/28/45|The things she do...|          7.8|   17170|\n",
      "|tt0038109|    movie|          Spellbound|     1945|           111|Film-Noir,Mystery...|When Dr. Anthony ...|    12/28/45|The maddest love ...|          7.5|   49089|\n",
      "|tt0040522|    movie|     Bicycle Thieves|     1948|            89|               Drama|Antonio, an unemp...|    11/24/48|A man and his son...|          8.3|  163908|\n",
      "|tt0044706|    movie|           High Noon|     1952|            85|Drama,Thriller,We...|High Noon is abou...|     3/27/52|The story of a ma...|          8.0|  104871|\n",
      "|tt0046816|    movie|    The Caine Mutiny|     1954|           124|           Drama,War|When a US Naval c...|     6/24/54|As big as the ocean!|          7.7|   28046|\n",
      "|tt0046949|    movie|        The Egyptian|     1954|           139|               Drama|In eighteenth-dyn...|     8/25/54|To Nefer, shamele...|          6.5|    4121|\n",
      "|tt0046969|    movie|The Fast and the ...|     1954|            73| Crime,Drama,Mystery|A man wrongly imp...|     2/15/55|High speed Excite...|          5.3|    1363|\n",
      "|tt0049513|    movie|           Moby Dick|     1956|           116|     Adventure,Drama|In 1841, young Is...|     6/27/56|From the immortal...|          7.3|   20318|\n",
      "+---------+---------+--------------------+---------+--------------+--------------------+--------------------+------------+--------------------+-------------+--------+\n",
      "only showing top 20 rows\n",
      "\n"
     ]
    },
    {
     "name": "stderr",
     "output_type": "stream",
     "text": [
      "                                                                                \r"
     ]
    }
   ],
   "source": [
    "imdb_movies.show()"
   ]
  },
  {
   "cell_type": "code",
   "execution_count": 5,
   "metadata": {},
   "outputs": [
    {
     "name": "stdout",
     "output_type": "stream",
     "text": [
      "+--------------------+--------------+--------------------+--------------------+-----------------+--------------------+-------------+--------+\n",
      "|        primaryTitle|runtimeMinutes|              genres|            overview|     release_date|             tagline|averageRating|numVotes|\n",
      "+--------------------+--------------+--------------------+--------------------+-----------------+--------------------+-------------+--------+\n",
      "|Black Panther: Wa...|           161|Action,Adventure,...|The people of Wak...|November 11, 2022|             Forever|          7.3|   74000|\n",
      "|       Black Panther|           134|Action,Adventure,...|T'Challa, heir to...|February 16, 2018| Long live the king.|          7.3|  762000|\n",
      "|Thor: Love and Th...|           118|Action,Adventure,...|Thor enlists the ...|     July 8, 2022|Not every god has...|          6.3|  309000|\n",
      "|She-Hulk: Attorne...|            35|Action,Adventure,...|Jennifer Walters ...|  August 18, 2022|You'll like her w...|          5.2|  159000|\n",
      "|Spider-Man: No Wa...|           148|Action,Adventure,...|With Spider-Man's...|December 17, 2021|The Multiverse Un...|          8.3|  744000|\n",
      "|   Avengers: Endgame|           181|Action,Adventure,...|After the devasta...|   April 26, 2019|  Avenge the fallen.|          8.4| 1100000|\n",
      "|Doctor Strange in...|           126|Action,Adventure,...|Doctor Strange te...|      May 6, 2022|Enter a new dimen...|          6.9|  404000|\n",
      "|            Eternals|           156|Action,Adventure,...|The saga of the E...| November 5, 2021| In the beginning...|          6.3|  338000|\n",
      "|Avengers: Infinit...|           149|Action,Adventure,...|The Avengers and ...|   April 27, 2018|An entire univers...|          8.4| 1100000|\n",
      "|            Iron Man|           126|Action,Adventure,...|After being held ...|      May 2, 2008|Heroes aren't bor...|          7.9| 1100000|\n",
      "|Guardians of the ...|           121|Action,Adventure,...|A group of interg...|   August 1, 2014|     You're welcome.|          8.0| 1200000|\n",
      "|         Moon Knight|            53|Action,Adventure,...|Steven Grant disc...|   March 30, 2022|                None|          7.3|  226000|\n",
      "|                Loki|            53|Action,Adventure,...|The mercurial vil...|     June 9, 2021|                None|          8.2|  313000|\n",
      "|        The Avengers|           143|Action,Adventure,...|Earth's mightiest...|      May 4, 2012|  Avengers Assemble!|          8.0| 1400000|\n",
      "|         WandaVision|           350| Action,Comedy,Drama|Blends the style ...| January 15, 2021|Marvel Studios pr...|          7.9|  321000|\n",
      "|         Black Widow|           134|Action,Adventure,...|Natasha Romanoff ...|     July 9, 2021|She's Done Runnin...|          6.7|  375000|\n",
      "|Guardians of the ...|           136|Action,Adventure,...|The Guardians str...|      May 5, 2017|This summer, the ...|          7.6|  678000|\n",
      "|Shang-Chi and the...|           132|Action,Adventure,...|Shang-Chi, the ma...|September 3, 2021|A Marvel legend w...|          7.4|  378000|\n",
      "|Captain America: ...|           124|Action,Adventure,...|Steve Rogers, a r...|    July 22, 2011|When patriots bec...|          6.9|  843000|\n",
      "|      Thor: Ragnarok|           130|Action,Adventure,...|Imprisoned on the...| November 3, 2017|No Hammer. No Pro...|          7.9|  748000|\n",
      "+--------------------+--------------+--------------------+--------------------+-----------------+--------------------+-------------+--------+\n",
      "only showing top 20 rows\n",
      "\n"
     ]
    }
   ],
   "source": [
    "imdb_marvel.show()"
   ]
  },
  {
   "cell_type": "code",
   "execution_count": 6,
   "metadata": {},
   "outputs": [],
   "source": [
    "#Remove movies that have empty content\n",
    "imdb_movies = imdb_movies.dropna(subset=['genres','overview','tagline'],how='all')\n",
    "#Fill missing values of content\n",
    "imdb_movies = imdb_movies.fillna(value='',subset=['overview','tagline'])\n",
    "imdb_marvel = imdb_marvel.withColumn('tagline',regexp_replace('tagline','None',''))\n",
    "#Remove \\n character\n",
    "imdb_movies = imdb_movies.withColumn('overview',regexp_replace('overview','[\\n]+',' '))\n",
    "imdb_movies = imdb_movies.withColumn('tagline',regexp_replace('tagline','[\\n]+',' '))\n",
    "#Remove \\r character\n",
    "imdb_movies = imdb_movies.withColumn('overview',regexp_replace('overview','[\\r]+',' '))\n",
    "imdb_movies = imdb_movies.withColumn('tagline',regexp_replace('tagline','[\\r]+',' '))\n",
    "imdb_marvel = imdb_marvel.withColumn('overview',regexp_replace('overview','[\\r]+',' '))\n",
    "imdb_marvel = imdb_marvel.withColumn('tagline',regexp_replace('tagline','[\\r]+',' '))\n",
    "#Remove &amp; characters\n",
    "imdb_movies = imdb_movies.withColumn('overview',regexp_replace('overview','&amp;',' '))\n",
    "imdb_movies = imdb_movies.withColumn('tagline',regexp_replace('tagline','&amp;',' '))\n",
    "imdb_marvel = imdb_marvel.withColumn('overview',regexp_replace('overview','&amp;',' '))\n",
    "imdb_marvel = imdb_marvel.withColumn('tagline',regexp_replace('tagline','&amp;',' '))\n",
    "#Remove URL \n",
    "imdb_movies = imdb_movies.withColumn('overview',regexp_replace('overview','http\\S+',' '))\n",
    "imdb_movies = imdb_movies.withColumn('tagline',regexp_replace('tagline','http\\S+',' '))\n",
    "imdb_marvel = imdb_marvel.withColumn('overview',regexp_replace('overview','http\\S+',' '))\n",
    "imdb_marvel = imdb_marvel.withColumn('tagline',regexp_replace('tagline','http\\S+',' '))\n",
    "#Replace ! with .\n",
    "imdb_movies = imdb_movies.withColumn('overview',regexp_replace('overview','!','.'))\n",
    "imdb_movies = imdb_movies.withColumn('tagline',regexp_replace('tagline','!','.'))\n",
    "imdb_marvel = imdb_marvel.withColumn('overview',regexp_replace('overview','!','.'))\n",
    "imdb_marvel = imdb_marvel.withColumn('tagline',regexp_replace('tagline','!','.'))\n",
    "#Replace multilple points with single point\n",
    "imdb_movies = imdb_movies.withColumn('overview',regexp_replace('overview','[.]+','. '))\n",
    "imdb_movies = imdb_movies.withColumn('tagline',regexp_replace('tagline','[.]+','. '))\n",
    "imdb_marvel = imdb_marvel.withColumn('overview',regexp_replace('overview','[.]+','. '))\n",
    "imdb_marvel = imdb_marvel.withColumn('tagline',regexp_replace('tagline','[.]+','. '))\n",
    "#Remove special characters\n",
    "imdb_movies = imdb_movies.withColumn('overview',regexp_replace('overview','[-—–_~%&\\\\\\/;:\"“”‘’•|,<>?#@àè\\^\\(\\)\\*\\'\\[\\]]+',' '))\n",
    "imdb_movies = imdb_movies.withColumn('tagline',regexp_replace('tagline','[-—–_~%&\\\\\\/;:\"“”‘’•|,<>?#@àè\\^\\(\\)\\*\\'\\[\\]]+',' '))\n",
    "imdb_marvel = imdb_marvel.withColumn('overview',regexp_replace('overview','[-—–_~%&\\\\\\/;:\"“”‘’•|,<>?#@àè\\^\\(\\)\\*\\'\\[\\]]+',' '))\n",
    "imdb_marvel = imdb_marvel.withColumn('tagline',regexp_replace('tagline','[-—–_~%&\\\\\\/;:\"“”‘’•|,<>?#@àè\\^\\(\\)\\*\\'\\[\\]]+',' '))\n",
    "#Converting text to lower case\n",
    "imdb_movies = imdb_movies.withColumn('overview',lower(imdb_movies['overview']))\n",
    "imdb_movies = imdb_movies.withColumn('tagline',lower(imdb_movies['tagline']))\n",
    "imdb_marvel = imdb_marvel.withColumn('overview',lower(imdb_marvel['overview']))\n",
    "imdb_marvel = imdb_marvel.withColumn('tagline',lower(imdb_marvel['tagline']))\n",
    "#Removing punctuation\n",
    "imdb_movies = imdb_movies.withColumn('overview',regexp_replace('overview','[^\\w\\s]',' '))\n",
    "imdb_movies = imdb_movies.withColumn('tagline',regexp_replace('tagline','[^\\w\\s]',' '))\n",
    "imdb_marvel = imdb_marvel.withColumn('overview',regexp_replace('overview','[^\\w\\s]',' '))\n",
    "imdb_marvel = imdb_marvel.withColumn('tagline',regexp_replace('tagline','[^\\w\\s]',' '))\n",
    "#Removing stop words\n",
    "stop_words = stopwords.words('english')\n",
    "remove_stop_words_udf = udf(lambda x:\" \".join(x for x in x.split() if x not in stop_words))\n",
    "imdb_movies = imdb_movies.withColumn('overview',remove_stop_words_udf(imdb_movies['overview']))\n",
    "imdb_movies = imdb_movies.withColumn('tagline',remove_stop_words_udf(imdb_movies['tagline']))\n",
    "imdb_marvel = imdb_marvel.withColumn('overview',remove_stop_words_udf(imdb_marvel['overview']))\n",
    "imdb_marvel = imdb_marvel.withColumn('tagline',remove_stop_words_udf(imdb_marvel['tagline']))\n",
    "#Lemmatizing word\n",
    "lemmatize_udf = udf(lambda x:' '.join([Word(word).lemmatize() for word in x.split()]))\n",
    "imdb_movies = imdb_movies.withColumn('overview',lemmatize_udf(imdb_movies['overview']))\n",
    "imdb_movies = imdb_movies.withColumn('tagline',lemmatize_udf(imdb_movies['tagline']))\n",
    "imdb_marvel = imdb_marvel.withColumn('overview',lemmatize_udf(imdb_marvel['overview']))\n",
    "imdb_marvel = imdb_marvel.withColumn('tagline',lemmatize_udf(imdb_marvel['tagline']))\n",
    "#Remove redundant spaces\n",
    "imdb_movies = imdb_movies.withColumn('overview',regexp_replace('overview','[\\s]+',' '))\n",
    "imdb_movies = imdb_movies.withColumn('tagline',regexp_replace('tagline','[\\s]+',' '))\n",
    "imdb_marvel = imdb_marvel.withColumn('overview',regexp_replace('overview','[\\s]+',' '))\n",
    "imdb_marvel = imdb_marvel.withColumn('tagline',regexp_replace('tagline','[\\s]+',' '))\n",
    "#Trim the space of texts\n",
    "imdb_movies = imdb_movies.withColumn('overview',trim(imdb_movies['overview']))\n",
    "imdb_movies = imdb_movies.withColumn('tagline',trim(imdb_movies['tagline']))\n",
    "imdb_marvel = imdb_marvel.withColumn('overview',trim(imdb_marvel['overview']))\n",
    "imdb_marvel = imdb_marvel.withColumn('tagline',trim(imdb_marvel['tagline']))"
   ]
  },
  {
   "cell_type": "code",
   "execution_count": 9,
   "metadata": {},
   "outputs": [
    {
     "name": "stderr",
     "output_type": "stream",
     "text": [
      "                                                                                \r"
     ]
    }
   ],
   "source": [
    "imdb_marvel.toPandas().to_csv('imdb_marvel_cleaned.csv',sep='|',index=False)\n",
    "imdb_movies.toPandas().to_csv('imdb_movies_cleaned.csv',sep='|',index=False)"
   ]
  },
  {
   "cell_type": "code",
   "execution_count": null,
   "metadata": {},
   "outputs": [],
   "source": []
  }
 ],
 "metadata": {
  "kernelspec": {
   "display_name": "Python 3.8.10 64-bit",
   "language": "python",
   "name": "python3"
  },
  "language_info": {
   "codemirror_mode": {
    "name": "ipython",
    "version": 3
   },
   "file_extension": ".py",
   "mimetype": "text/x-python",
   "name": "python",
   "nbconvert_exporter": "python",
   "pygments_lexer": "ipython3",
   "version": "3.8.10"
  },
  "orig_nbformat": 4,
  "vscode": {
   "interpreter": {
    "hash": "916dbcbb3f70747c44a77c7bcd40155683ae19c65e1c03b4aa3499c5328201f1"
   }
  }
 },
 "nbformat": 4,
 "nbformat_minor": 2
}
